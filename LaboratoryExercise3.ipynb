{
  "nbformat": 4,
  "nbformat_minor": 0,
  "metadata": {
    "colab": {
      "provenance": [],
      "authorship_tag": "ABX9TyNop3uuyhAnjFltM4S/rZKU",
      "include_colab_link": true
    },
    "kernelspec": {
      "name": "python3",
      "display_name": "Python 3"
    },
    "language_info": {
      "name": "python"
    }
  },
  "cells": [
    {
      "cell_type": "markdown",
      "metadata": {
        "id": "view-in-github",
        "colab_type": "text"
      },
      "source": [
        "<a href=\"https://colab.research.google.com/github/jadedevon02/ITBAN3/blob/main/LaboratoryExercise3.ipynb\" target=\"_parent\"><img src=\"https://colab.research.google.com/assets/colab-badge.svg\" alt=\"Open In Colab\"/></a>"
      ]
    },
    {
      "cell_type": "code",
      "execution_count": 1,
      "metadata": {
        "colab": {
          "base_uri": "https://localhost:8080/"
        },
        "id": "IG_ZCgjc3BUr",
        "outputId": "64a7d6af-bf75-4f48-da78-e6a376cd3d1f"
      },
      "outputs": [
        {
          "output_type": "stream",
          "name": "stdout",
          "text": [
            "Average fare per month for Philippine Airlines flights from Davao City to Manila:\n",
            "   month    fare\n",
            "0      5  5000.0\n",
            "1      6  6000.0\n",
            "2      8  5500.0\n",
            "3      9  6200.0\n"
          ]
        }
      ],
      "source": [
        "import pandas as pd\n",
        "\n",
        "# Define the data as a dictionary\n",
        "data = {\n",
        "    'traveller': ['Michael', 'Emma', 'David', 'Sophia', 'Oliver'],  # Names of travellers\n",
        "    'departure': ['Davao City', 'Davao City', 'Manila', 'Davao City', 'Davao City'],  # Departure cities\n",
        "    'departure_time': ['2023-05-10', '2023-06-15', '2023-07-20', '2023-08-25', '2023-09-30'],  # Departure dates\n",
        "    'arrival': ['Manila', 'Manila', 'Davao City', 'Manila', 'Manila'],  # Arrival cities\n",
        "    'arrival_time': ['2023-05-11', '2023-06-16', '2023-07-21', '2023-08-26', '2023-10-01'],  # Arrival dates\n",
        "    'flight': ['PAL333', 'PAL444', 'CebuPac555', 'PAL666', 'PAL777'],  # Flight numbers\n",
        "    'fare': [5000, 6000, 7000, 5500, 6200] # Fare prices\n",
        "}\n",
        "\n",
        "# Create a DataFrame from the data\n",
        "df = pd.DataFrame(data)\n",
        "\n",
        "# Select only rows where departure is from Davao City and arrival is to Manila\n",
        "df_dm = df[(df['departure'] == 'Davao City') & (df['arrival'] == 'Manila')]\n",
        "\n",
        "# Select only rows where the flight number starts with 'PAL'\n",
        "df_pa = df_dm[df_dm['flight'].str.startswith('PAL')]\n",
        "\n",
        "# Convert departure time to datetime format\n",
        "df_pa['departure_time'] = pd.to_datetime(df_pa['departure_time'])\n",
        "\n",
        "# Extract month from departure time\n",
        "df_pa['month'] = df_pa['departure_time'].dt.month\n",
        "\n",
        "# Calculate the average fare per month for Philippine Airlines flights\n",
        "average_fare_per_month = df_pa.groupby('month')['fare'].mean().reset_index()\n",
        "\n",
        "# Print the result\n",
        "print(\"Average fare per month for Philippine Airlines flights from Davao City to Manila:\")\n",
        "print(average_fare_per_month)\n"
      ]
    }
  ]
}